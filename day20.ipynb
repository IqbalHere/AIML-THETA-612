{
 "cells": [
  {
   "cell_type": "code",
   "execution_count": null,
   "metadata": {},
   "outputs": [],
   "source": [
    "df=pd.read_csv(file_name)\n",
    "df\n"
   ]
  },
  {
   "cell_type": "code",
   "execution_count": null,
   "metadata": {},
   "outputs": [],
   "source": [
    "df.shape"
   ]
  },
  {
   "cell_type": "code",
   "execution_count": null,
   "metadata": {},
   "outputs": [],
   "source": [
    "df.corr(numeric_only=True)\n"
   ]
  },
  {
   "cell_type": "code",
   "execution_count": null,
   "metadata": {},
   "outputs": [],
   "source": [
    "#build model\n",
    "import statsmodels.formula.api as smf\n",
    "\n",
    "\n",
    "model=smf.ols('MPG~WT+VOL+SP+HP',data=df).fit()"
   ]
  },
  {
   "cell_type": "code",
   "execution_count": null,
   "metadata": {},
   "outputs": [],
   "source": [
    "model.params"
   ]
  },
  {
   "cell_type": "code",
   "execution_count": null,
   "metadata": {},
   "outputs": [],
   "source": [
    "print(model.tvalues, '\\n', model.pvalues)"
   ]
  },
  {
   "cell_type": "code",
   "execution_count": null,
   "metadata": {},
   "outputs": [],
   "source": [
    "(model.rsquared, model.rsquared_adj)"
   ]
  },
  {
   "cell_type": "code",
   "execution_count": null,
   "metadata": {},
   "outputs": [],
   "source": [
    "\n",
    "ml_v=smf.ols('MPG~VOL',data=df).fit() # Changed 'cars' to 'df'\n",
    "\n",
    "print(ml_v.tvalues, '\\n', ml_v.pvalues)"
   ]
  },
  {
   "cell_type": "code",
   "execution_count": null,
   "metadata": {},
   "outputs": [],
   "source": [
    "# prompt: ( ml_v. rsquared rsquared_adj )\n",
    "\n",
    "(ml_v.rsquared, ml_v.rsquared_adj)\n"
   ]
  },
  {
   "cell_type": "code",
   "execution_count": null,
   "metadata": {},
   "outputs": [],
   "source": [
    "# prompt: 'MPG•WT• *data\n",
    "# print (ml_w.tvalues, ml_w.pvalues)\n",
    "\n",
    "ml_w = smf.ols('MPG~WT', data = df).fit()\n",
    "print(ml_w.tvalues, '\\n', ml_w.pvalues)\n",
    "\n"
   ]
  },
  {
   "cell_type": "code",
   "execution_count": null,
   "metadata": {},
   "outputs": [],
   "source": [
    "rsq_hp = smf.ols('HP~WT+VOL+SP',data=df).fit().rsquared\n",
    "vif_hp = 1/(1-rsq_hp)\n",
    "rsq_wt = smf.ols('WT~HP+VOL+SP',data=df).fit().rsquared\n",
    "vif_wt = 1/(1-rsq_wt)\n",
    "rsq_vol = smf.ols('VOL~WT+SP+HP',data=df).fit().rsquared\n",
    "vif_vol = 1/(1-rsq_vol)\n",
    "rsq_sp = smf.ols('SP~WT+VOL+HP',data=df).fit().rsquared\n",
    "vif_sp = 1/(1-rsq_sp)\n",
    "d1 = {'Variables' : ['HP','WT','VOL','SP'],'VIF':[vif_hp,vif_wt,vif_vol,vif_sp]}\n",
    "df_vif = pd.DataFrame(d1)\n",
    "df_vif"
   ]
  },
  {
   "cell_type": "code",
   "execution_count": null,
   "metadata": {},
   "outputs": [],
   "source": [
    "import statsmodels.api as sm\n",
    "qqplot=sm.qqplot(model.resid,line='q')\n",
    "plt.title(\"Normal Q-Q plot of residuals\")\n",
    "plt.show()"
   ]
  },
  {
   "cell_type": "code",
   "execution_count": null,
   "metadata": {},
   "outputs": [],
   "source": [
    "def get_standardized_values( vals ):\n",
    "  return (vals - vals.mean())/vals.std()\n",
    "plt.scatter(get_standardized_values(model.fittedvalues),\n",
    "            get_standardized_values(model.resid))\n",
    "plt.title('Residual Plot')\n",
    "plt.xlabel('Standardized Fitted Values')\n",
    "plt.ylabel('Standardized Residuals')\n",
    "plt.show()"
   ]
  }
 ],
 "metadata": {
  "language_info": {
   "name": "python"
  }
 },
 "nbformat": 4,
 "nbformat_minor": 2
}
