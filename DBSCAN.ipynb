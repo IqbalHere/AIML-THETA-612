{
  "nbformat": 4,
  "nbformat_minor": 0,
  "metadata": {
    "colab": {
      "provenance": [],
      "include_colab_link": true
    },
    "kernelspec": {
      "name": "python3",
      "display_name": "Python 3"
    },
    "language_info": {
      "name": "python"
    }
  },
  "cells": [
    {
      "cell_type": "markdown",
      "metadata": {
        "id": "view-in-github",
        "colab_type": "text"
      },
      "source": [
        "<a href=\"https://colab.research.google.com/github/IqbalHere/AIML-THETA-612/blob/main/DBSCAN.ipynb\" target=\"_parent\"><img src=\"https://colab.research.google.com/assets/colab-badge.svg\" alt=\"Open In Colab\"/></a>"
      ]
    },
    {
      "cell_type": "code",
      "source": [
        "import numpy as np\n",
        "import pandas as pd\n",
        "import matplotlib.pyplot as plt\n",
        "from sklearn.preprocessing import StandardScaler\n",
        "from sklearn.cluster import DBSCAN"
      ],
      "metadata": {
        "id": "kKkGjIpbr80h"
      },
      "execution_count": 2,
      "outputs": []
    },
    {
      "cell_type": "code",
      "source": [
        "from google.colab import drive\n",
        "\n",
        "# Mount Google Drive (if needed)\n",
        "drive.mount('/content/drive')"
      ],
      "metadata": {
        "id": "H-jiyK9ssALJ",
        "outputId": "4acb6f8f-f693-4126-8a16-d2bf29198214",
        "colab": {
          "base_uri": "https://localhost:8080/"
        }
      },
      "execution_count": 3,
      "outputs": [
        {
          "output_type": "stream",
          "name": "stdout",
          "text": [
            "Mounted at /content/drive\n"
          ]
        }
      ]
    },
    {
      "cell_type": "code",
      "source": [
        "import pandas as pd\n",
        "file_path = \"/content/Wholesale customers data.csv\"\n",
        "df = pd.read_csv(file_path)\n"
      ],
      "metadata": {
        "id": "EI5gR7Qrsk0f"
      },
      "execution_count": 6,
      "outputs": []
    },
    {
      "cell_type": "code",
      "source": [
        "array = df.values"
      ],
      "metadata": {
        "id": "Rb8CVmqEv7VW"
      },
      "execution_count": 18,
      "outputs": []
    },
    {
      "cell_type": "code",
      "source": [
        "array"
      ],
      "metadata": {
        "id": "ISnxZYzgwKCi",
        "outputId": "fd2b63f4-5f63-4c07-8bde-20a172adfdc2",
        "colab": {
          "base_uri": "https://localhost:8080/"
        }
      },
      "execution_count": 19,
      "outputs": [
        {
          "output_type": "execute_result",
          "data": {
            "text/plain": [
              "array([[    2,     3, 12669, ...,   214,  2674,  1338],\n",
              "       [    2,     3,  7057, ...,  1762,  3293,  1776],\n",
              "       [    2,     3,  6353, ...,  2405,  3516,  7844],\n",
              "       ...,\n",
              "       [    2,     3, 14531, ...,   437, 14841,  1867],\n",
              "       [    1,     3, 10290, ...,  1038,   168,  2125],\n",
              "       [    1,     3,  2787, ...,    65,   477,    52]])"
            ]
          },
          "metadata": {},
          "execution_count": 19
        }
      ]
    },
    {
      "cell_type": "code",
      "source": [
        "\n",
        "stscaler = StandardScaler().fit(array)\n",
        "x = stscaler.transform(array)\n"
      ],
      "metadata": {
        "id": "gj8FLjxmwNUb"
      },
      "execution_count": 20,
      "outputs": []
    },
    {
      "cell_type": "code",
      "source": [
        "x"
      ],
      "metadata": {
        "id": "F1UUFlTKxjL5",
        "outputId": "41917909-0b7d-4485-8108-f3d498bfdc9a",
        "colab": {
          "base_uri": "https://localhost:8080/"
        }
      },
      "execution_count": 21,
      "outputs": [
        {
          "output_type": "execute_result",
          "data": {
            "text/plain": [
              "array([[ 1.44865163,  0.59066829,  0.05293319, ..., -0.58936716,\n",
              "        -0.04356873, -0.06633906],\n",
              "       [ 1.44865163,  0.59066829, -0.39130197, ..., -0.27013618,\n",
              "         0.08640684,  0.08915105],\n",
              "       [ 1.44865163,  0.59066829, -0.44702926, ..., -0.13753572,\n",
              "         0.13323164,  2.24329255],\n",
              "       ...,\n",
              "       [ 1.44865163,  0.59066829,  0.20032554, ..., -0.54337975,\n",
              "         2.51121768,  0.12145607],\n",
              "       [-0.69029709,  0.59066829, -0.13538389, ..., -0.41944059,\n",
              "        -0.56977032,  0.21304614],\n",
              "       [-0.69029709,  0.59066829, -0.72930698, ..., -0.62009417,\n",
              "        -0.50488752, -0.52286938]])"
            ]
          },
          "metadata": {},
          "execution_count": 21
        }
      ]
    }
  ]
}