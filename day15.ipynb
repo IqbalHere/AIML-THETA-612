{
 "cells": [
  {
   "cell_type": "code",
   "execution_count": 1,
   "metadata": {},
   "outputs": [
    {
     "name": "stdout",
     "output_type": "stream",
     "text": [
      "Original Data: \n",
      "   customer_id  gender       city  fruits\n",
      "0            1    male  Hyderabad   Mango\n",
      "1            2  female       pune  Orange\n",
      "2            3    male   Banglore   Apple\n",
      "3            4  female     Mumbai  Banana\n"
     ]
    }
   ],
   "source": [
    "import pandas as pd\n",
    "from sklearn.preprocessing import OneHotEncoder\n",
    "data = {\n",
    "    \"customer_id\":[1, 2, 3, 4],\n",
    "    \"gender\": [\"male\", \"female\", \"male\", \"female\"],\n",
    "    \"city\": [\"Hyderabad\", \"pune\", \"Banglore\", \"Mumbai\"],\n",
    "    \"fruits\":[\"Mango\", \"Orange\", \"Apple\", \"Banana\"]\n",
    "}\n",
    "df = pd.DataFrame(data)\n",
    "print(\"Original Data: \")\n",
    "print(df)\n",
    "one_hot_encoder = OneHotEncoder(sparse_output=False)\n",
    "columns_to_encode = [\"gender\", \"city\", \"fruits\"]\n",
    "encoded_data = one_hot_encoder.fit_transform(df[columns_to_encode])\n",
    "encoded_columns = one_hot_encoder.get_feature_names_out(columns_to_encode)\n",
    "encoded_df = pd.DataFrame(encoded_data, columns=encoded_columns)"
   ]
  }
 ],
 "metadata": {
  "kernelspec": {
   "display_name": "Python 3",
   "language": "python",
   "name": "python3"
  },
  "language_info": {
   "codemirror_mode": {
    "name": "ipython",
    "version": 3
   },
   "file_extension": ".py",
   "mimetype": "text/x-python",
   "name": "python",
   "nbconvert_exporter": "python",
   "pygments_lexer": "ipython3",
   "version": "3.12.1"
  }
 },
 "nbformat": 4,
 "nbformat_minor": 2
}
